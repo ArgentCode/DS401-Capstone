{
 "cells": [
  {
   "cell_type": "code",
   "execution_count": 1,
   "id": "116464eb",
   "metadata": {},
   "outputs": [],
   "source": [
    "## https://www.youtube.com/watch?v=SPM1tm2ZdK4&t=855s\n",
    "## https://www.youtube.com/watch?v=USrjHgO9Niw python selenium button clicking\n",
    "\n",
    "from selenium import webdriver\n",
    "from selenium.webdriver.chrome.service import Service\n",
    "from selenium.webdriver.chrome.options import Options\n",
    "from webdriver_manager.chrome import ChromeDriverManager\n",
    "from selenium.webdriver.common.by import By\n",
    "import time\n",
    "import csv\n",
    "import re\n",
    "\n",
    "college_file_list = ['ames, ia', 'college station, tx', 'minneapolis, mn'] #### Need to make sure they are in \"City, St\" format\n",
    "# with open('Collegetowns2.csv', 'r') as file:\n",
    "#     # Create a CSV reader object using DictReader\n",
    "#     for line in file:\n",
    "#         city = line[:-1].replace(',', '-').replace(' ', '-')\n",
    "#         college_file_list.append(city)\n",
    "\n",
    "options=Options()\n",
    "options.add_experimental_option(\"detach\", True)\n",
    "\n"
   ]
  },
  {
   "cell_type": "code",
   "execution_count": null,
   "id": "b56d64f3",
   "metadata": {},
   "outputs": [],
   "source": [
    "driver = webdriver.Chrome(service=Service(ChromeDriverManager().install()),\n",
    "                            options=options)\n",
    "\n",
    "for item in grocery_dict: \n",
    "    for college in college_file_list:\n",
    "\n",
    "        # Dark red kidney beans ames iowa\n",
    "        driver.get(\"\")\n",
    "\n",
    "        # Find the element by data-test attribute\n",
    "        price_element = driver.find_element(By.CSS_SELECTOR, '[data-test=\"product-price\"]')\n",
    "        print(price_element.text)\n",
    "\n",
    "        time.sleep(3)\n",
    "\n",
    "        # Find the button by its ID\n",
    "        webStoreButton = driver.find_element(By.ID, \"web-store-id-msg-btn\")\n",
    "\n",
    "        # Click the button\n",
    "        webStoreButton.click()\n",
    "        time.sleep(2)\n",
    "\n",
    "        inputBox = driver.find_element(By.ID, \"zip-or-city-state\")\n",
    "        inputBox.send_keys(college) # Need to input \"city, st\"\n",
    "\n",
    "        lookupButton =  driver.find_element(By.CSS_SELECTOR, '[data-test=\"@web/StoreLocationSearch/button\"]')\n",
    "        lookupButton.click()\n",
    "        time.sleep(2)\n",
    "\n",
    "        ShopStoreButton =  driver.find_element(By.CSS_SELECTOR, '[data-test=\"@web/StoreMenu/ShopThisStoreButton\"]')\n",
    "        ShopStoreButton.click()\n",
    "\n",
    "        time.sleep(3)\n",
    "        # ID of the button id=\"zip-code-id-btn\"\n",
    "\n",
    "\n",
    "driver.close()"
   ]
  }
 ],
 "metadata": {
  "kernelspec": {
   "display_name": "Python 3 (ipykernel)",
   "language": "python",
   "name": "python3"
  },
  "language_info": {
   "codemirror_mode": {
    "name": "ipython",
    "version": 3
   },
   "file_extension": ".py",
   "mimetype": "text/x-python",
   "name": "python",
   "nbconvert_exporter": "python",
   "pygments_lexer": "ipython3",
   "version": "3.11.5"
  }
 },
 "nbformat": 4,
 "nbformat_minor": 5
}
