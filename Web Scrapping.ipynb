{
 "cells": [
  {
   "cell_type": "markdown",
   "id": "b31cc197",
   "metadata": {},
   "source": [
    "### URLLib\n",
    "Tutorial based on https://realpython.com/python-web-scraping-practical-introduction/\n",
    "\n",
    "Same problem as RVest, it just runs forever."
   ]
  },
  {
   "cell_type": "code",
   "execution_count": 3,
   "id": "7cfed0e5",
   "metadata": {},
   "outputs": [],
   "source": [
    "from urllib.request import urlopen"
   ]
  },
  {
   "cell_type": "code",
   "execution_count": null,
   "id": "5ea33490",
   "metadata": {},
   "outputs": [],
   "source": [
    "url = \"https://www.apartments.com/ames-ia/2-bedrooms/\"\n",
    "page = urlopen(url)\n",
    "\n",
    "html_bytes = page.read()\n",
    "html = html_bytes.decode(\"utf-8\")\n",
    "html"
   ]
  },
  {
   "cell_type": "code",
   "execution_count": null,
   "id": "298e8ec2",
   "metadata": {},
   "outputs": [],
   "source": [
    "1+1=2"
   ]
  },
  {
   "cell_type": "markdown",
   "id": "a5cbd9aa",
   "metadata": {},
   "source": [
    "### Selenium\n"
   ]
  },
  {
   "cell_type": "markdown",
   "id": "1595391f",
   "metadata": {},
   "source": [
    "New attempt using Selenium with guide https://www.youtube.com/watch?v=SPM1tm2ZdK4"
   ]
  },
  {
   "cell_type": "code",
   "execution_count": null,
   "id": "71b4dd20",
   "metadata": {},
   "outputs": [],
   "source": []
  }
 ],
 "metadata": {
  "kernelspec": {
   "display_name": "Python 3 (ipykernel)",
   "language": "python",
   "name": "python3"
  },
  "language_info": {
   "codemirror_mode": {
    "name": "ipython",
    "version": 3
   },
   "file_extension": ".py",
   "mimetype": "text/x-python",
   "name": "python",
   "nbconvert_exporter": "python",
   "pygments_lexer": "ipython3",
   "version": "3.12.1"
  }
 },
 "nbformat": 4,
 "nbformat_minor": 5
}
