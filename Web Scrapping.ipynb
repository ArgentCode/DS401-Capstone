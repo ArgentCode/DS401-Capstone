{
 "cells": [
  {
   "cell_type": "code",
   "execution_count": 7,
   "id": "71b4dd20",
   "metadata": {},
   "outputs": [
    {
     "name": "stdout",
     "output_type": "stream",
     "text": [
      "Firing up for loop\n",
      "https://www.apartments.com/ames-ia/max-1-bedrooms/\n"
     ]
    }
   ],
   "source": [
    "## https://www.youtube.com/watch?v=SPM1tm2ZdK4&t=855s\n",
    "\n",
    "from selenium import webdriver\n",
    "from selenium.webdriver.chrome.service import Service\n",
    "from selenium.webdriver.chrome.options import Options\n",
    "from webdriver_manager.chrome import ChromeDriverManager\n",
    "import time\n",
    "import re\n",
    "import pandas as pd\n",
    "\n",
    "college_file_list = ['ames-ia', 'college-station-tx']\n",
    "# college_file_list = []\n",
    "    \n",
    "    # Use the pattern to match and filter characters\n",
    "    \n",
    "\n",
    "with open('Collegetowns2.csv', 'r') as file:\n",
    "    # Create a CSV reader object using DictReader\n",
    "    for line in file:\n",
    "        city = line[:-1].replace(',', '-').replace(' ', '-')\n",
    "        college_file_list.append(city)\n",
    "\n",
    "options=Options()\n",
    "options.add_experimental_option(\"detach\", True)\n",
    "\n",
    "driver = webdriver.Chrome(service=Service(ChromeDriverManager().install()),\n",
    "                          options=options )\n",
    "\n",
    "i = 1\n",
    "print(\"Firing up for loop\")\n",
    "for city in college_file_list:\n",
    "    url = \"https://www.apartments.com/\" + city + \"/max-1-bedrooms/\"\n",
    "    print(url)\n",
    "    driver.get(url)\n",
    "\n",
    "    html = driver.page_source\n",
    "    time.sleep(2)\n",
    "    # filename = city + \"-html.txt\"\n",
    "    # with open(filename, 'w') as file:\n",
    "    #     file.write(html.encode('utf-8').decode('ascii', 'ignore'))\n",
    "    # file.close()\n",
    "    ## Insert some gabe code here! \n",
    "    i= i+1\n",
    "    time.sleep(3)\n",
    "    if i > 1:\n",
    "        break\n",
    "\n",
    "driver.close()\n",
    "\n"
   ]
  },
  {
   "cell_type": "code",
   "execution_count": 8,
   "id": "f70ac291",
   "metadata": {},
   "outputs": [
    {
     "name": "stdout",
     "output_type": "stream",
     "text": [
      "<html id=\"appContainer\" lang=\"en\" data-placeholder-focus=\"true\" class=\" js webgl geolocation cssanimations csstransforms csstransforms3d csstransitions svg\"><head><style>.LGLeeN-keyboard-shortcuts-view{display:-webkit-box;display:-webkit-flex;display:-moz-box;display:-ms-flexbox;display:flex}.LGLeeN-keyboard-shortcuts-view table,.LGLeeN-keyboard-shortcuts-view tbody,.LGLeeN-keyboard-shortcuts-view td,.LGLeeN-keyboard-shortcuts-view tr{background:inherit;border:none;margin:0;padding:0}.LGLeeN-keyboard-shortcuts-view table{display:table}.LGLeeN-keyboard-shortcuts-view tr{display:table-row}.LGLeeN-keyboard-shortcuts-view td{-moz-box-sizing:border-box;box-sizing:border-box;display:table-cell;color:#000;padding:6px;vertical-align:middle;white-space:nowrap}.LGLeeN-keyboard-shortcuts-view td:first-child{text-align:end}.LGLeeN-keyboard-shortcuts-view td kbd{background-color:#e8eaed;border-radius:2px;border:none;-moz-box-sizing:border-box;box-sizing:border-box;color:inherit;display:inline-block\n"
     ]
    }
   ],
   "source": [
    "print(html[:1000])"
   ]
  },
  {
   "cell_type": "code",
   "execution_count": 13,
   "id": "6fd75633",
   "metadata": {},
   "outputs": [
    {
     "name": "stdout",
     "output_type": "stream",
     "text": [
      "[]\n"
     ]
    }
   ],
   "source": [
    "# Remove tabs and newlines\n",
    "pricing = re.sub(\"[\\t|\\n]+\", \"\", html)\n",
    "\n",
    "# # Extract all matches\n",
    "matches = re.findall('aria-label=\"[\\\\w\\\\s[:punct:]]*>[^<]*<p class=\"property-pricing\">[^<]*</p>', pricing)\n",
    "\n",
    "# # Filter out None values and convert to DataFrame\n",
    "pricing_df = pd.DataFrame([x for x in matches if x is not None], columns=['Text'])\n",
    "\n",
    "# # Separate AptName and Price\n",
    "# pricing_df[['AptName', 'Price']] = pricing_df['Text'].str.extract(r'aria-label=\"([^\"]*)\">[^<]*<p class=\"property-pricing\">([^<]*)</p>')\n",
    "\n",
    "# # Clean AptName and Price columns\n",
    "# pricing_df['AptName'] = pricing_df['AptName'].str.replace('aria-label=\"', '').str.replace(',.*$', '')\n",
    "# pricing_df['Price'] = pricing_df['Price'].str.replace('class=\"property-pricing\">\\\\$', '').str.replace('</p>', '')\n",
    "\n",
    "# # Separate Price into Price1 and Price2\n",
    "# pricing_df[['Price1', 'Price2']] = pricing_df['Price'].str.split(' - ', expand=True)\n",
    "\n",
    "# # Drop the original Text and Price columns\n",
    "# pricing_df.drop(columns=['Text', 'Price'], inplace=True)\n",
    "print(matches)"
   ]
  },
  {
   "cell_type": "code",
   "execution_count": null,
   "id": "50f52aab",
   "metadata": {},
   "outputs": [],
   "source": []
  }
 ],
 "metadata": {
  "kernelspec": {
   "display_name": "Python 3 (ipykernel)",
   "language": "python",
   "name": "python3"
  },
  "language_info": {
   "codemirror_mode": {
    "name": "ipython",
    "version": 3
   },
   "file_extension": ".py",
   "mimetype": "text/x-python",
   "name": "python",
   "nbconvert_exporter": "python",
   "pygments_lexer": "ipython3",
   "version": "3.11.5"
  }
 },
 "nbformat": 4,
 "nbformat_minor": 5
}
