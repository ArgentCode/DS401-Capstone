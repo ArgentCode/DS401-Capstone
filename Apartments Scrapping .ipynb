{
 "cells": [
  {
   "cell_type": "markdown",
   "id": "c844af29",
   "metadata": {},
   "source": [
    "### Webscrapping code for apartments.com\n",
    "\n",
    "The first code block is the packages and supporting functions for regex parsing.\n",
    "\n",
    "The second code block is the web scrapping that goes through all the colleges, and pulls out the html, then sends it to be web scraped."
   ]
  },
  {
   "cell_type": "code",
   "execution_count": 1,
   "id": "5f5bbbe5",
   "metadata": {
    "scrolled": true
   },
   "outputs": [],
   "source": [
    "from selenium import webdriver\n",
    "from selenium.webdriver.chrome.service import Service\n",
    "from selenium.webdriver.chrome.options import Options\n",
    "from webdriver_manager.chrome import ChromeDriverManager\n",
    "import time\n",
    "import re\n",
    "import pandas as pd\n",
    "\n",
    "\n",
    "# Custom function to extract value after dollar sign\n",
    "def extract_value_after_dollar(row):\n",
    "    # Find the index of the dollar sign\n",
    "    dollar_index = row.find('$')\n",
    "    # Extract everything after the dollar sign\n",
    "    value_after_dollar = row[dollar_index + 1:]\n",
    "    return value_after_dollar\n",
    "\n",
    "def extract_average(html): \n",
    "    if re.search(\"404 Page Not Found\", html):\n",
    "        return None\n",
    "    else: \n",
    "        pattern = r'aria-label=\"[^\"]*\">[^<]*<p class=\"property-pricing\">[^<]*</p>'\n",
    "        prices = re.findall(pattern, html)\n",
    "\n",
    "        df = pd.DataFrame(prices, columns=['Text'])\n",
    "        \n",
    "        if len(df) < 5:\n",
    "            return None\n",
    "\n",
    "        # Separate the 'Text' column into 'AptName' and 'Price' columns\n",
    "        df[['AptName', 'Price']] = df['Text'].str.split('>[^<]*<p', expand=True)\n",
    "\n",
    "        # Clean 'AptName' and 'Price' columns\n",
    "        df['AptName'] = df['AptName'].str.replace('aria-label=\"', '')\n",
    "        df['AptName'] = df['AptName'].str.replace(r',[^,]*$', '')\n",
    "        df['Price'] = df['Price'].str.replace('class=\"property-pricing\">\\\\$', '').str.replace('</p>', '')\n",
    "\n",
    "        # Separate 'Price' column into 'Price1' and 'Price2' columns\n",
    "        df[['Price1', 'Price2']] = df['Price'].str.split(' - ', expand=True)\n",
    "\n",
    "        # Drop the 'Text' and 'Price' columns\n",
    "        df.drop(columns=['Text', 'Price'], inplace=True)\n",
    "        df['Price2'] = pd.to_numeric(df['Price2'].str.replace(',', ''), errors='coerce')\n",
    "        df['Price1'] = df['Price1'].apply(extract_value_after_dollar)\n",
    "        df['Price1'] = pd.to_numeric(df['Price1'].str.replace(',', ''), errors='coerce')\n",
    "\n",
    "        return((df['Price1'].mean() + df['Price2'].mean())/2)\n",
    "#     return df"
   ]
  },
  {
   "cell_type": "code",
   "execution_count": 2,
   "id": "7318356f",
   "metadata": {},
   "outputs": [
    {
     "name": "stdout",
     "output_type": "stream",
     "text": [
      "Firing up for loop\n"
     ]
    }
   ],
   "source": [
    "## https://www.youtube.com/watch?v=SPM1tm2ZdK4&t=855s\n",
    "\n",
    "college_file_list = []\n",
    "# college_file_list = ['jacksonville-al', 'auburn-alabama', 'ames-ia', 'college-station-tx']\n",
    "\n",
    "with open('Collegetowns2.csv', 'r') as file:\n",
    "    # Create a CSV reader object using DictReader\n",
    "    for line in file:\n",
    "        city = line[:-1].replace(',', '-').replace(' ', '-')\n",
    "        college_file_list.append(city)\n",
    "college_file_list = college_file_list[1:]\n",
    "\n",
    "# Going to append this so that all the data stays in order\n",
    "college_prices = pd.DataFrame(college_file_list, columns=[\"College\"])\n",
    "college_prices['Mean'] = None\n",
    "\n",
    "options=Options()\n",
    "options.add_experimental_option(\"detach\", True)\n",
    "\n",
    "driver = webdriver.Chrome(service=Service(ChromeDriverManager().install()),\n",
    "                          options=options )\n",
    "\n",
    "i = 1\n",
    "print(\"Firing up for loop\")\n",
    "for city in college_file_list:\n",
    "    url = \"https://www.apartments.com/\" + city + \"/max-1-bedrooms/\"\n",
    "#     print(url)\n",
    "    driver.get(url)\n",
    "\n",
    "    html = driver.page_source\n",
    "    time.sleep(2)\n",
    "    town_avg = extract_average(html)\n",
    "    college_prices.loc[college_prices['College'] == city, 'Mean'] = town_avg\n",
    "    i= i+1\n",
    "    time.sleep(1)\n",
    "    if i > 215:\n",
    "        break\n",
    "\n",
    "driver.close()"
   ]
  },
  {
   "cell_type": "code",
   "execution_count": 4,
   "id": "019d4154",
   "metadata": {},
   "outputs": [
    {
     "data": {
      "text/html": [
       "<div>\n",
       "<style scoped>\n",
       "    .dataframe tbody tr th:only-of-type {\n",
       "        vertical-align: middle;\n",
       "    }\n",
       "\n",
       "    .dataframe tbody tr th {\n",
       "        vertical-align: top;\n",
       "    }\n",
       "\n",
       "    .dataframe thead th {\n",
       "        text-align: right;\n",
       "    }\n",
       "</style>\n",
       "<table border=\"1\" class=\"dataframe\">\n",
       "  <thead>\n",
       "    <tr style=\"text-align: right;\">\n",
       "      <th></th>\n",
       "      <th>College</th>\n",
       "      <th>Mean</th>\n",
       "    </tr>\n",
       "  </thead>\n",
       "  <tbody>\n",
       "    <tr>\n",
       "      <th>0</th>\n",
       "      <td>Auburn-AL</td>\n",
       "      <td>1275.409091</td>\n",
       "    </tr>\n",
       "    <tr>\n",
       "      <th>1</th>\n",
       "      <td>Jacksonville-AL</td>\n",
       "      <td>None</td>\n",
       "    </tr>\n",
       "    <tr>\n",
       "      <th>2</th>\n",
       "      <td>Livingston-AL</td>\n",
       "      <td>None</td>\n",
       "    </tr>\n",
       "    <tr>\n",
       "      <th>3</th>\n",
       "      <td>Montevallo-AL</td>\n",
       "      <td>1291.97412</td>\n",
       "    </tr>\n",
       "    <tr>\n",
       "      <th>4</th>\n",
       "      <td>Troy-AL</td>\n",
       "      <td>None</td>\n",
       "    </tr>\n",
       "    <tr>\n",
       "      <th>...</th>\n",
       "      <td>...</td>\n",
       "      <td>...</td>\n",
       "    </tr>\n",
       "    <tr>\n",
       "      <th>980</th>\n",
       "      <td>-</td>\n",
       "      <td>3075.755255</td>\n",
       "    </tr>\n",
       "    <tr>\n",
       "      <th>981</th>\n",
       "      <td>-</td>\n",
       "      <td>3075.755255</td>\n",
       "    </tr>\n",
       "    <tr>\n",
       "      <th>982</th>\n",
       "      <td>-</td>\n",
       "      <td>3075.755255</td>\n",
       "    </tr>\n",
       "    <tr>\n",
       "      <th>983</th>\n",
       "      <td>-</td>\n",
       "      <td>3075.755255</td>\n",
       "    </tr>\n",
       "    <tr>\n",
       "      <th>984</th>\n",
       "      <td>-</td>\n",
       "      <td>3075.755255</td>\n",
       "    </tr>\n",
       "  </tbody>\n",
       "</table>\n",
       "<p>985 rows × 2 columns</p>\n",
       "</div>"
      ],
      "text/plain": [
       "             College         Mean\n",
       "0          Auburn-AL  1275.409091\n",
       "1    Jacksonville-AL         None\n",
       "2      Livingston-AL         None\n",
       "3      Montevallo-AL   1291.97412\n",
       "4            Troy-AL         None\n",
       "..               ...          ...\n",
       "980                -  3075.755255\n",
       "981                -  3075.755255\n",
       "982                -  3075.755255\n",
       "983                -  3075.755255\n",
       "984                -  3075.755255\n",
       "\n",
       "[985 rows x 2 columns]"
      ]
     },
     "execution_count": 4,
     "metadata": {},
     "output_type": "execute_result"
    }
   ],
   "source": [
    "college_prices\n",
    "# college_prices.to_csv('collegePrices.csv', index=False)"
   ]
  },
  {
   "cell_type": "code",
   "execution_count": 6,
   "id": "1b23b94d",
   "metadata": {},
   "outputs": [],
   "source": [
    "temp = college_prices.iloc[:213]"
   ]
  },
  {
   "cell_type": "code",
   "execution_count": 8,
   "id": "f6a9785c",
   "metadata": {},
   "outputs": [],
   "source": [
    "temp.to_csv('collegePrices.csv', index=False)"
   ]
  },
  {
   "cell_type": "code",
   "execution_count": 14,
   "id": "32a10fe9",
   "metadata": {},
   "outputs": [
    {
     "data": {
      "text/plain": [
       "College    213\n",
       "Mean        85\n",
       "dtype: int64"
      ]
     },
     "execution_count": 14,
     "metadata": {},
     "output_type": "execute_result"
    }
   ],
   "source": [
    "temp.count()"
   ]
  }
 ],
 "metadata": {
  "kernelspec": {
   "display_name": "Python 3 (ipykernel)",
   "language": "python",
   "name": "python3"
  },
  "language_info": {
   "codemirror_mode": {
    "name": "ipython",
    "version": 3
   },
   "file_extension": ".py",
   "mimetype": "text/x-python",
   "name": "python",
   "nbconvert_exporter": "python",
   "pygments_lexer": "ipython3",
   "version": "3.11.5"
  }
 },
 "nbformat": 4,
 "nbformat_minor": 5
}
